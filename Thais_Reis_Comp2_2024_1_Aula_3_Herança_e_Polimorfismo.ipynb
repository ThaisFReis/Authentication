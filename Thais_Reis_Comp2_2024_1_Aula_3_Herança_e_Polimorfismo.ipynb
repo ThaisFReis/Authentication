{
  "nbformat": 4,
  "nbformat_minor": 0,
  "metadata": {
    "colab": {
      "provenance": [],
      "include_colab_link": true
    },
    "kernelspec": {
      "name": "python3",
      "display_name": "Python 3"
    },
    "language_info": {
      "name": "python"
    }
  },
  "cells": [
    {
      "cell_type": "markdown",
      "metadata": {
        "id": "view-in-github",
        "colab_type": "text"
      },
      "source": [
        "<a href=\"https://colab.research.google.com/github/ThaisFReis/Authentication/blob/main/Thais_Reis_Comp2_2024_1_Aula_3_Heran%C3%A7a_e_Polimorfismo.ipynb\" target=\"_parent\"><img src=\"https://colab.research.google.com/assets/colab-badge.svg\" alt=\"Open In Colab\"/></a>"
      ]
    },
    {
      "cell_type": "markdown",
      "source": [
        "# Computação 2 &ndash; Semana 3 &ndash; 2023.2 <br>Herança e Polimorfismo\n",
        "\n",
        "Olá alunos! Esta semana vocês aprenderão conceitos mais avançados de POO: **herança, classes mãe e filha, sobrecarga de operadores e polimorfismo**. Lembrem-se, para acompanhar os exemplos, é necessário rodar todas as células na sequência.\n",
        "\n",
        "Bons estudos!<br>\n",
        "*Prof. Cesar Raitz*"
      ],
      "metadata": {
        "id": "FFzB5U2EohHf"
      }
    },
    {
      "cell_type": "markdown",
      "source": [
        "# 1. Herança\n",
        "\n",
        "Em algum momento, você percebeu que certas classes têm **propriedades e comportamentos muito parecidos**, com poucas diferenças. Se um comportamento for melhorado numa das classes, *você gostaria que ele fosse melhorado nas outras também*, certo? Pense num modelo de carro que ganhou um **sistema de freios melhorado**. Automaticamente, os sub-modelos dessa linha também foram beneficiados! Cada sub-modelo tem sua particularidade, **mas o sistema de freios é comum a todos**.\n",
        "\n",
        "A POO tem um mecanismo chamado **herança**, no qual uma classe pode ser derivada de outra, reaproveitando todo o código dela. Chamamos:\n",
        "* A classe derivada de **classe filha** e\n",
        "* A classe original de **classe mãe**.\n",
        "\n",
        "Dizemos que a classe filha **herda** os atributos e métodos da classe mãe."
      ],
      "metadata": {
        "id": "-fsMmflgpkYx"
      }
    },
    {
      "cell_type": "markdown",
      "source": [
        "## 1.2. Herança no Petshop"
      ],
      "metadata": {
        "id": "ljX86Je_ttN8"
      }
    },
    {
      "cell_type": "markdown",
      "source": [
        "Como exemplo, vamos criar uma classe `Pet` que será usada num sistema de Petshop."
      ],
      "metadata": {
        "id": "IPS1bYXsUWOu"
      }
    },
    {
      "cell_type": "code",
      "source": [
        "class Pet:\n",
        "  # MÉTODO CONSTRUTOR (para inicializar o objeto)\n",
        "  def __init__(self, nome, idade, dono=''):\n",
        "    self.nome = nome\n",
        "    self.idade = idade\n",
        "    self.dono = dono\n",
        "\n",
        "  # MÉTODO falar\n",
        "  def falar(self):\n",
        "    print(f'{self.nome}: ???')\n",
        "\n",
        "# TESTE\n",
        "# Vamos criar um objeto do tipo Pet,\n",
        "# => um_pet é uma instância de Pet\n",
        "um_pet = Pet('C3PO', 123, 'Lucas')\n",
        "um_pet.falar()"
      ],
      "metadata": {
        "id": "v4EAHRgn2pN6",
        "colab": {
          "base_uri": "https://localhost:8080/"
        },
        "outputId": "9fe99255-5cac-4957-cde1-4f901e291748"
      },
      "execution_count": 2,
      "outputs": [
        {
          "output_type": "stream",
          "name": "stdout",
          "text": [
            "C3PO: ???\n"
          ]
        }
      ]
    },
    {
      "cell_type": "markdown",
      "source": [
        "Acima, uma classe `Pet` foi definida com *atributos e métodos comuns a todos os pets*. Como ainda não sabemos qual é o tipo do pet, sua fala é *???*. Então vamos implementar uma classe específica para gatos:"
      ],
      "metadata": {
        "id": "FXdzdhKU29Pa"
      }
    },
    {
      "cell_type": "code",
      "source": [
        "class Gato(Pet):\n",
        "  #       ^^^^^\n",
        "  # O nome da classe mãe fica entre parênteses\n",
        "\n",
        "  def falar(self):\n",
        "    print(f'🐱 {self.nome}: Miau!')\n",
        "\n",
        "# TESTE\n",
        "desire = Gato('Désirée', 3, 'Ana')\n",
        "desire.falar()"
      ],
      "metadata": {
        "id": "aGV-Pnct335z",
        "colab": {
          "base_uri": "https://localhost:8080/"
        },
        "outputId": "20170cf0-c9b5-4526-fde5-0da7a310b355"
      },
      "execution_count": 3,
      "outputs": [
        {
          "output_type": "stream",
          "name": "stdout",
          "text": [
            "🐱 Désirée: Miau!\n"
          ]
        }
      ]
    },
    {
      "cell_type": "markdown",
      "source": [
        "* A classe mãe é `Pet`\n",
        "* A classe filha é `Gato`\n",
        "\n",
        "Então, `Gato` herdou os atributos e métodos de `Pet`, *inclusive o construtor!* No entanto, o método `fala` foi redefinido para se adequar aos gatos. Vamos parar por aí? Não! Vamos criar uma classe para cachorros também!"
      ],
      "metadata": {
        "id": "s3RAcb6X35vH"
      }
    },
    {
      "cell_type": "code",
      "source": [
        "class Cachorro(Pet):\n",
        "  def __init__(self, nome, idade, dono='', tem_pulgas=False):\n",
        "    # Chamamos o construtor da classe mãe, para não repetir código\n",
        "    super().__init__(nome, idade, dono)\n",
        "    # E aproveitamos para criar mais um atributo\n",
        "    self.tem_pulgas = tem_pulgas\n",
        "\n",
        "  def falar(self):\n",
        "    print(f'🐶 {self.nome}: Au!')\n",
        "\n",
        "# TESTE\n",
        "toto = Cachorro('Totó', 3, 'Túlio')\n",
        "toto.falar()"
      ],
      "metadata": {
        "id": "D7GZub7suq4D",
        "colab": {
          "base_uri": "https://localhost:8080/"
        },
        "outputId": "e034bfeb-5d31-4315-ccda-f3404132ec04"
      },
      "execution_count": 4,
      "outputs": [
        {
          "output_type": "stream",
          "name": "stdout",
          "text": [
            "🐶 Totó: Au!\n"
          ]
        }
      ]
    },
    {
      "cell_type": "markdown",
      "source": [
        "No caso da classe `Cachorro`, tanto `fala` quanto o construtor foram redefinidos. Mas por que o construtor? Para adicionar uma particularidade dos doguinhos: o atributo `tem_pulgas`. Mesmo assim, também chamamos o construtor da classe mãe, `Pet.__init__()`, usando a função especial: `super()`. Podemos chamar qualquer método da classe mãe com `super()`!"
      ],
      "metadata": {
        "id": "nXG1S229xvpd"
      }
    },
    {
      "cell_type": "markdown",
      "source": [
        "![image.png](data:image/png;base64,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)"
      ],
      "metadata": {
        "id": "b6ILUbZaS1Zq"
      }
    },
    {
      "cell_type": "markdown",
      "source": [
        "Os programadores encontraram uma forma simples de resumir as classes de um programa: são os **Diagramas UML** (de *Universal Modelling Language*). O diagrama para as classes do Petshop está na figura acima.\n",
        "\n",
        "Cada caixinha representa uma classe:\n",
        "* **Em cima** fica o nome\n",
        "* **No meio** ficam os atributos\n",
        "* **Em baixo** ficam os métodos\n",
        "\n",
        "Nas classes filhas, só precisei colocar os atributos e métodos novos ou redefinidos."
      ],
      "metadata": {
        "id": "aMtw0jvcTG35"
      }
    },
    {
      "cell_type": "markdown",
      "source": [
        "#### Exercício 1 [&frac12;pt]. Classe Girafa.\n",
        "Todo mundo sabe o barulho que as girafas fazem né? Suponha que você esteja programando um sistema para gerenciar zoológicos. Crie uma classe `Girafa` derivada de `Pet`. Adicione um atributo `altura` e redefina o método `falar()`. Crie umas duas instâncias de `Girafa` com alturas diferente e teste."
      ],
      "metadata": {
        "id": "GxpcVQjW6tjZ"
      }
    },
    {
      "cell_type": "code",
      "source": [
        "class Pet:\n",
        "    def __init__(self, nome, idade, dono='', altura=None):\n",
        "        self.nome = nome\n",
        "        self.idade = idade\n",
        "        self.dono = dono\n",
        "        self.altura = altura\n",
        "\n",
        "    def falar(self):\n",
        "        print(f'{self.nome}: ???')\n",
        "\n",
        "class Girafa(Pet):\n",
        "    def __init__(self, nome, idade, dono='', altura=0):\n",
        "        super().__init__(nome, idade, dono, altura)\n",
        "\n",
        "    def falar(self):\n",
        "        print(f'🦒 {self.nome}: ...')\n",
        "\n",
        "# Teste 1\n",
        "girafa1 = Girafa('Melman', 5, 'Zoo Central', 5.5)\n",
        "girafa1.falar()\n",
        "\n",
        "# Teste 2\n",
        "girafa2 = Girafa('Sophie', 3, 'Zoo Safari', 4.8)\n",
        "girafa2.falar()"
      ],
      "metadata": {
        "id": "qgB0R81E75Z9",
        "colab": {
          "base_uri": "https://localhost:8080/"
        },
        "outputId": "2cf4058a-4ba4-4d9b-a2f6-6e7f1a04d230"
      },
      "execution_count": 15,
      "outputs": [
        {
          "output_type": "stream",
          "name": "stdout",
          "text": [
            "🦒 Melman: ...\n",
            "🦒 Sophie: ...\n"
          ]
        }
      ]
    },
    {
      "cell_type": "markdown",
      "source": [
        "# 2. Polimorfismo\n",
        "\n",
        "O polimorfismo é muito simples em Python, bem mais do que em outras linguagens de programação. Uma frase que resume o polimorfismo muito bem é essa aqui:\n",
        "> *Se anda como um pato e fala como um pato... então é um pato!*\n",
        "\n",
        "Vou dar um exemplo pra você entender melhor. Imagine agora que você criou uma pequena empresa de logística. O custo para transportar móveis é diferente daquele para roupas. Os impostos também são diferentes. Então podemos criar classes filhas para cada tipo de mercadoria."
      ],
      "metadata": {
        "id": "YWMDO37ljmNF"
      }
    },
    {
      "cell_type": "code",
      "source": [
        "#===============================================================================\n",
        "class Mercadoria:\n",
        "  def __init__(self, nome: str):\n",
        "    self.nome = nome\n",
        "\n",
        "#===============================================================================\n",
        "class Movel(Mercadoria):\n",
        "  # O construtor continua o mesmo\n",
        "\n",
        "  def custo(self) -> float:\n",
        "    # Vai depender também da rota de entrega, impostos, etc.\n",
        "    return 100.0\n",
        "\n",
        "#===============================================================================\n",
        "class Roupa(Mercadoria):\n",
        "  def custo(self) -> float:\n",
        "    return 50.0"
      ],
      "metadata": {
        "id": "AQI8pk_xnLmT"
      },
      "execution_count": 17,
      "outputs": []
    },
    {
      "cell_type": "markdown",
      "source": [
        "Agora vamos criar uma lista de mercadorias para uma viagem de entrega. Podemos colocar várias mercadorias na mesma lista, e não interessa se uma é móvel e outra é roupa, porque todas têm o método `custo()` e podemos calcular o custo total rapidamente:"
      ],
      "metadata": {
        "id": "CGoPnqrhojEH"
      }
    },
    {
      "cell_type": "code",
      "source": [
        "entrega = [\n",
        "    Movel(\"Sofá 3 lugares\"),\n",
        "    Roupa(\"Calças jeans\"),\n",
        "    Movel(\"Sofá-cama\"),\n",
        "  ]\n",
        "\n",
        "custo_total = 0.0\n",
        "for mercadoria in entrega:\n",
        "  custo_total += mercadoria.custo()\n",
        "\n",
        "print(f\"O custo de armazenamento/transporte é R$ {custo_total:.2f}.\")"
      ],
      "metadata": {
        "id": "pZANYhWRpGkc",
        "colab": {
          "base_uri": "https://localhost:8080/"
        },
        "outputId": "0daab845-3696-407c-8a18-b88b53e125c9"
      },
      "execution_count": 18,
      "outputs": [
        {
          "output_type": "stream",
          "name": "stdout",
          "text": [
            "O custo de armazenamento/transporte é R$ 250.00.\n"
          ]
        }
      ]
    },
    {
      "cell_type": "markdown",
      "source": [
        "### Exercício 2 [&frac12;pt]. A Arca de Noé.\n",
        "\n",
        "Crie uma lista com todos os `Pet` criados até agora. Na hora de zarpar, Noé confere mais uma vez sua lista fazendo uma última chamada. Use um laço **for** para iterar sobre a lista e chame o método `falar()` para cada bicho."
      ],
      "metadata": {
        "id": "oN6Nuq4ujVzT"
      }
    },
    {
      "cell_type": "code",
      "source": [
        "arca_de_noe = [um_pet, desire, toto, girafa1, girafa2]\n",
        "\n",
        "for pet in arca_de_noe:\n",
        "  pet.falar()"
      ],
      "metadata": {
        "id": "EEtl6gTnr7t0",
        "colab": {
          "base_uri": "https://localhost:8080/"
        },
        "outputId": "eb6a8338-a5e5-4042-df77-312d8cf78371"
      },
      "execution_count": 21,
      "outputs": [
        {
          "output_type": "stream",
          "name": "stdout",
          "text": [
            "C3PO: ???\n",
            "🐱 Désirée: Miau!\n",
            "🐶 Totó: Au!\n",
            "🦒 Melman: ...\n",
            "🦒 Sophie: ...\n"
          ]
        }
      ]
    },
    {
      "cell_type": "markdown",
      "source": [
        "# 3. Sobrecarga de Operadores\n",
        "\n",
        "Você está cansado de fazer as operações mais básicas em Python, como essa aqui:\n",
        "\n",
        "$$\n",
        "3 + 5\n",
        "$$\n",
        "\n",
        "Mas sabe que até essas operações são entendidas como funções? Seria equivalente a chamar uma função `soma(3, 5)`. Na operação soma, chamamos os números de parcelas mas, de forma geral, os números são os **operANDOS** e os símbolos são os **operADORES**. Ou seja,\n",
        "\n",
        "`operador( operando_da_esquerda, operando_da_direita )`\n",
        "\n",
        "Esta definição é bem ampla, veja abaixo o que mais você já usou como **operando da soma**:"
      ],
      "metadata": {
        "id": "bDA4MqUCCLlu"
      }
    },
    {
      "cell_type": "code",
      "source": [
        "# Listas\n",
        "print([1, 2] + [4, 5, 6, 7, 8, 9])\n",
        "\n",
        "# Tuplas\n",
        "print((1.11, 2.22) + (3.33, 4.44))\n",
        "\n",
        "# Strings\n",
        "print('Hello' + ' World!')"
      ],
      "metadata": {
        "id": "-LB3LgmECOLr",
        "colab": {
          "base_uri": "https://localhost:8080/"
        },
        "outputId": "84338ee5-a40d-45f7-cc04-6c5cba573c56"
      },
      "execution_count": 22,
      "outputs": [
        {
          "output_type": "stream",
          "name": "stdout",
          "text": [
            "[1, 2, 4, 5, 6, 7, 8, 9]\n",
            "(1.11, 2.22, 3.33, 4.44)\n",
            "Hello World!\n"
          ]
        }
      ]
    },
    {
      "cell_type": "markdown",
      "source": [
        "Para algumas classes, pode ser extremamente útil \"dar um significado\" à soma de objetos. Pense nisso, ao invés de criar uma função `soma_objeto` e ficar chamando `soma_objeto(objeto1, objeto2)`, como seria bom digitar somente `objeto1 + objeto2`!\n",
        "\n",
        "Ficou muito abstrato? Veja o exemplo para a classe Vetor abaixo."
      ],
      "metadata": {
        "id": "kI_GgZZ-qvFW"
      }
    },
    {
      "cell_type": "markdown",
      "source": [
        "## 2.1. Exemplo: A classe Vetor"
      ],
      "metadata": {
        "id": "wFe9vUd9t_eM"
      }
    },
    {
      "cell_type": "code",
      "source": [
        "class Vetor:\n",
        "  def __init__(self, x, y):\n",
        "    \"Cria um vetor no plano.\"\n",
        "    self.x = x\n",
        "    self.y = y\n",
        "\n",
        "u = Vetor(5, 3)\n",
        "v = Vetor(7, 10)\n",
        "print(u)\n",
        "print(v)"
      ],
      "metadata": {
        "id": "TL9insVNvPQE"
      },
      "execution_count": null,
      "outputs": []
    },
    {
      "cell_type": "markdown",
      "source": [
        "#### Exercício 3 [&half;pt]. O vetor negativo.\n",
        "\n",
        "Na classe Vetor, crie um método que retorne o elemento inverso do vetor $\\vec{v}=(v_x, v_y)$. Isto é: $-\\vec{v} = (-v_x, -v_y)$. Apresente casos de teste também."
      ],
      "metadata": {
        "id": "qv1eNIdU8_no"
      }
    },
    {
      "cell_type": "code",
      "source": [
        "class Vetor:\n",
        "  def __init__(self, x, y):\n",
        "    \"Cria um vetor no plano.\"\n",
        "    self.x = x\n",
        "    self.y = y\n",
        "\n",
        "  def inverso(self):\n",
        "      \"Retorna o vetor negativo.\"\n",
        "      return Vetor(-self.x, -self.y)\n",
        "\n",
        "  def __str__(self):\n",
        "      return f\"Vetor({self.x}, {self.y})\"\n",
        "\n",
        "# CASOS DE TESTE\n",
        "v = Vetor(5, 3)\n",
        "print(v)\n",
        "\n",
        "w = v.inverso()\n",
        "print(w)"
      ],
      "metadata": {
        "id": "z2etZ07W969u",
        "colab": {
          "base_uri": "https://localhost:8080/"
        },
        "outputId": "ec70aec8-0902-4769-bf57-bc4f4b98d6bb"
      },
      "execution_count": 29,
      "outputs": [
        {
          "output_type": "stream",
          "name": "stdout",
          "text": [
            "Vetor(5, 3)\n",
            "Vetor(-5, -3)\n"
          ]
        }
      ]
    },
    {
      "cell_type": "markdown",
      "source": [
        "### Mostrando vetores"
      ],
      "metadata": {
        "id": "9R3tcMtSu3IP"
      }
    },
    {
      "cell_type": "markdown",
      "source": [
        "O Python tem essa forma peculiar de mostrar os objetos:\n",
        "```\n",
        "<__main__.Vetor object at 0x7a9873461690>\n",
        "```\n",
        "com o **nome da classe** e a **posição dos dados** na memória RAM (em hexadecimal). Podemos melhorar isso! Vamos olhar o método especial `__str__()`. Trata-se de um operador para **converter o objeto em string**."
      ],
      "metadata": {
        "id": "8WAAwEapwwe9"
      }
    },
    {
      "cell_type": "code",
      "source": [
        "class Vetor:\n",
        "  def __init__(self, x, y):\n",
        "    \"Cria um vetor no plano.\"\n",
        "    self.x = x\n",
        "    self.y = y\n",
        "\n",
        "  def __str__(self):\n",
        "    \"Retorna uma string quando necessário.\"\n",
        "    return f'({self.x}, {self.y})'\n",
        "\n",
        "u = Vetor(5, 3)\n",
        "v = Vetor(7, 10)\n",
        "# Converte sob demanda\n",
        "su = str(u)\n",
        "sv = str(v)\n",
        "# Converte automaticamente para string\n",
        "print(u)\n",
        "print(v)"
      ],
      "metadata": {
        "id": "EN2PYW1jyK9G",
        "colab": {
          "base_uri": "https://localhost:8080/"
        },
        "outputId": "13a4d146-eae3-4ad8-db19-135e0a1f40be"
      },
      "execution_count": 30,
      "outputs": [
        {
          "output_type": "stream",
          "name": "stdout",
          "text": [
            "(5, 3)\n",
            "(7, 10)\n"
          ]
        }
      ]
    },
    {
      "cell_type": "markdown",
      "source": [
        "Você pode pedir a conversão explicitamente com a função `str()` ou, de forma implícita, quando passa o objeto como argumento para `print()`."
      ],
      "metadata": {
        "id": "nbpZvEE3ydzW"
      }
    },
    {
      "cell_type": "markdown",
      "source": [
        "### Soma de vetores"
      ],
      "metadata": {
        "id": "a3HPcW_5u7hL"
      }
    },
    {
      "cell_type": "markdown",
      "source": [
        "Agora, vamos realizar a soma $\\vec{s} = \\vec{u} + \\vec{v}$."
      ],
      "metadata": {
        "id": "mhXjIPa98uHx"
      }
    },
    {
      "cell_type": "code",
      "source": [
        "print(u)\n",
        "print(v)\n",
        "sx = u.x + v.x\n",
        "sy = u.y + v.y\n",
        "s = Vetor(sx, sy)\n",
        "print(s)"
      ],
      "metadata": {
        "id": "dTsj046g1HyN"
      },
      "execution_count": null,
      "outputs": []
    },
    {
      "cell_type": "markdown",
      "source": [
        "Funcionou certo? Mas repetir o código acima, toda vez que precisarmos somar vetores, **pode levar a erros**. Pra facilitar nossa vida vamos definir o **operador soma** com o método `__add__()`."
      ],
      "metadata": {
        "id": "gxAHXvpg19bf"
      }
    },
    {
      "cell_type": "code",
      "source": [
        "class Vetor:\n",
        "  def __init__(self, x, y):\n",
        "    \"Cria um vetor no plano.\"\n",
        "    self.x = x\n",
        "    self.y = y\n",
        "\n",
        "  def __str__(self):\n",
        "    \"Retorna uma string quando necessário.\"\n",
        "    return f'({self.x}, {self.y})'\n",
        "\n",
        "  def __add__(self, v):\n",
        "    \"Calcula self + v.\"\n",
        "    # self é o operando da esquerda\n",
        "    #    v é o operando da direita\n",
        "    x = self.x + v.x\n",
        "    y = self.y + v.y\n",
        "    return Vetor(x, y)\n",
        "\n",
        "u = Vetor(5, 3)\n",
        "v = Vetor(7, 10)\n",
        "s = u + v\n",
        "print(s)"
      ],
      "metadata": {
        "id": "njiE398T3-d2"
      },
      "execution_count": null,
      "outputs": []
    },
    {
      "cell_type": "markdown",
      "source": [
        "Viu como facilitou? 😎\n",
        "\n",
        "Vamos pensar agora numa operação inédita no mundo dos vetores: **a soma de um vetor com um escalar!** 😱 Funciona assim: cada componente do vetor original é somada ao escalar para gerar o vetor resultante. Primeiro, vamos tentar fazer isso sem alterar a classe `Vetor`, só pra ver o Python reclamar:"
      ],
      "metadata": {
        "id": "z08RBd4Q42vW"
      }
    },
    {
      "cell_type": "code",
      "source": [
        "u + 5"
      ],
      "metadata": {
        "id": "6ADkT_MD7RGu",
        "colab": {
          "base_uri": "https://localhost:8080/",
          "height": 141
        },
        "outputId": "352ffce6-3a0a-4bd2-f954-2b94ffbf5007"
      },
      "execution_count": 31,
      "outputs": [
        {
          "output_type": "error",
          "ename": "TypeError",
          "evalue": "unsupported operand type(s) for +: 'Vetor' and 'int'",
          "traceback": [
            "\u001b[0;31m---------------------------------------------------------------------------\u001b[0m",
            "\u001b[0;31mTypeError\u001b[0m                                 Traceback (most recent call last)",
            "\u001b[0;32m<ipython-input-31-3e13ca255ac6>\u001b[0m in \u001b[0;36m<cell line: 1>\u001b[0;34m()\u001b[0m\n\u001b[0;32m----> 1\u001b[0;31m \u001b[0mu\u001b[0m \u001b[0;34m+\u001b[0m \u001b[0;36m5\u001b[0m\u001b[0;34m\u001b[0m\u001b[0;34m\u001b[0m\u001b[0m\n\u001b[0m",
            "\u001b[0;31mTypeError\u001b[0m: unsupported operand type(s) for +: 'Vetor' and 'int'"
          ]
        }
      ]
    },
    {
      "cell_type": "markdown",
      "source": [
        "Agora vamos incluir a nova funcionalidade em `__add__()`."
      ],
      "metadata": {
        "id": "d1TIhqfjwAiY"
      }
    },
    {
      "cell_type": "code",
      "source": [
        "def isnum(x) -> bool:\n",
        "  \"Retorna True se x for um número.\"\n",
        "  return isinstance(x, (int, float, complex))\n",
        "\n",
        "\n",
        "class Vetor:\n",
        "  def __init__(self, x, y):\n",
        "    \"Cria um vetor no plano.\"\n",
        "    self.x = x\n",
        "    self.y = y\n",
        "\n",
        "  def __str__(self):\n",
        "    \"Retorna uma string quando necessário.\"\n",
        "    return f'({self.x}, {self.y})'\n",
        "\n",
        "  def __add__(self, v):\n",
        "    \"Calcula self + v.\"\n",
        "    if isnum(v):\n",
        "      x = self.x + v    # v é escalar\n",
        "      y = self.y + v\n",
        "    else:\n",
        "      x = self.x + v.x  # v é vetor\n",
        "      y = self.y + v.y\n",
        "    return Vetor(x, y)\n",
        "\n",
        "u = Vetor(5, 3)\n",
        "s = u + 5\n",
        "print(s)"
      ],
      "metadata": {
        "id": "2cORAZl47a7u",
        "colab": {
          "base_uri": "https://localhost:8080/"
        },
        "outputId": "ad5cc2be-3681-4fe4-9088-9845ce91f2fd"
      },
      "execution_count": 32,
      "outputs": [
        {
          "output_type": "stream",
          "name": "stdout",
          "text": [
            "(10, 8)\n"
          ]
        }
      ]
    },
    {
      "cell_type": "markdown",
      "source": [
        "Usamos `isinstance()` para saber se o operando da direita (parâmetro `v`) é um número. Se for, o código dentro do `if` calcula as componentes daquela forma que combinamos.\n",
        "\n",
        "Seria bom se acabasse por aí, mas **nem tudo são flores!** Se você escrever `5 + u`, não vai funcionar! Pois **colocamos o vetor à direita do número**. Nós sabemos que o resultado será o mesmo, porque a soma é **comutativa**. *Mas o Python ainda não sabe disso!* Para ele, **somar à esquerda ou à direita** são coisas diferentes. Para avisá-lo que funciona, precisamos escrever o método `__radd__()` (r de *right*)."
      ],
      "metadata": {
        "id": "Hib2XICQ8TCu"
      }
    },
    {
      "cell_type": "code",
      "source": [
        "# Primeiro, veja que não funciona\n",
        "u = Vetor(5, 3)\n",
        "s = 5 + u\n",
        "print(s)"
      ],
      "metadata": {
        "id": "WfwNMUbPSoQN",
        "colab": {
          "base_uri": "https://localhost:8080/",
          "height": 193
        },
        "outputId": "b6c8589c-8ead-4ac4-ff82-a27078864e6d"
      },
      "execution_count": 33,
      "outputs": [
        {
          "output_type": "error",
          "ename": "TypeError",
          "evalue": "unsupported operand type(s) for +: 'int' and 'Vetor'",
          "traceback": [
            "\u001b[0;31m---------------------------------------------------------------------------\u001b[0m",
            "\u001b[0;31mTypeError\u001b[0m                                 Traceback (most recent call last)",
            "\u001b[0;32m<ipython-input-33-7a3edd2ef34d>\u001b[0m in \u001b[0;36m<cell line: 3>\u001b[0;34m()\u001b[0m\n\u001b[1;32m      1\u001b[0m \u001b[0;31m# Primeiro, veja que não funciona\u001b[0m\u001b[0;34m\u001b[0m\u001b[0;34m\u001b[0m\u001b[0m\n\u001b[1;32m      2\u001b[0m \u001b[0mu\u001b[0m \u001b[0;34m=\u001b[0m \u001b[0mVetor\u001b[0m\u001b[0;34m(\u001b[0m\u001b[0;36m5\u001b[0m\u001b[0;34m,\u001b[0m \u001b[0;36m3\u001b[0m\u001b[0;34m)\u001b[0m\u001b[0;34m\u001b[0m\u001b[0;34m\u001b[0m\u001b[0m\n\u001b[0;32m----> 3\u001b[0;31m \u001b[0ms\u001b[0m \u001b[0;34m=\u001b[0m \u001b[0;36m5\u001b[0m \u001b[0;34m+\u001b[0m \u001b[0mu\u001b[0m\u001b[0;34m\u001b[0m\u001b[0;34m\u001b[0m\u001b[0m\n\u001b[0m\u001b[1;32m      4\u001b[0m \u001b[0mprint\u001b[0m\u001b[0;34m(\u001b[0m\u001b[0ms\u001b[0m\u001b[0;34m)\u001b[0m\u001b[0;34m\u001b[0m\u001b[0;34m\u001b[0m\u001b[0m\n",
            "\u001b[0;31mTypeError\u001b[0m: unsupported operand type(s) for +: 'int' and 'Vetor'"
          ]
        }
      ]
    },
    {
      "cell_type": "markdown",
      "source": [
        "Agora vamos dar uma melhorada na classe `Vetor`:"
      ],
      "metadata": {
        "id": "XaXk2oBYw7Kr"
      }
    },
    {
      "cell_type": "code",
      "source": [
        "class Vetor:\n",
        "  def __init__(self, x, y):\n",
        "    \"Cria um vetor no plano.\"\n",
        "    self.x = x\n",
        "    self.y = y\n",
        "\n",
        "  def __str__(self):\n",
        "    \"Retorna uma string quando necessário.\"\n",
        "    return f'({self.x}, {self.y})'\n",
        "\n",
        "  def __add__(self, v):\n",
        "    \"Calcula self + v.\"\n",
        "    if isnum(v):\n",
        "      x = self.x + v\n",
        "      y = self.y + v\n",
        "    else:\n",
        "      x = self.x + v.x\n",
        "      y = self.y + v.y\n",
        "    return Vetor(x, y)\n",
        "\n",
        "  def __radd__(self, v):\n",
        "    \"Calcula v + self.\"\n",
        "    return self + v     # Equivale a: return self.__add__(v)\n",
        "\n",
        "u = Vetor(5, 3)\n",
        "s = 5 + u\n",
        "print(s)"
      ],
      "metadata": {
        "id": "AR1C1pL1SBj0",
        "colab": {
          "base_uri": "https://localhost:8080/"
        },
        "outputId": "97ce1637-361f-49fe-ef92-141f555ec928"
      },
      "execution_count": 35,
      "outputs": [
        {
          "output_type": "stream",
          "name": "stdout",
          "text": [
            "(10, 8)\n"
          ]
        }
      ]
    },
    {
      "cell_type": "markdown",
      "source": [
        "Poderíamos ter copiado o código de `__add__()` em `__radd__()`. Ao invés disso, chamamos a função `__add__()` (com o símbolo +) para gerar o resultado, pois bem sabemos que podemos colocar o escalar *à direita* do operador: `5 + u = u + 5`."
      ],
      "metadata": {
        "id": "dG2TebbmSXdE"
      }
    },
    {
      "cell_type": "markdown",
      "source": [
        "### Subtraindo vetores"
      ],
      "metadata": {
        "id": "uKFadF3JAFFF"
      }
    },
    {
      "cell_type": "markdown",
      "source": [
        "#### Exercício 4. [&half;pt]\n",
        "\n",
        "Na célula abaixo, modifique a classe `Vetor` para disponibilizar a operação de subtração por vetor/escalar. Os métodos para subtração são `__sub__()` e `__rsub__()`. Minha sugestão para isso é transformar a subtração numa soma.\n",
        "\n",
        "* `self` à esquerda com `__sub__()`:\n",
        "  * $\\vec{a} - x = \\vec{a} + (-x) $\n",
        "  * $\\vec{a} - \\vec{b} = \\vec{a} + (-\\vec{b}) $\n",
        "* `self` à direita com `__rsub__()`:\n",
        "  * $x - \\vec{a} = x + (-\\vec{a})$"
      ],
      "metadata": {
        "id": "qtzNEVE_TNb8"
      }
    },
    {
      "cell_type": "code",
      "source": [
        "def isnum(x) -> bool:\n",
        "    \"Retorna True se x for um número.\"\n",
        "    return isinstance(x, (int, float, complex))\n",
        "\n",
        "class Vetor:\n",
        "    def __init__(self, x, y):\n",
        "        \"Cria um vetor no plano.\"\n",
        "        self.x = x\n",
        "        self.y = y\n",
        "\n",
        "    def __str__(self):\n",
        "        \"Retorna uma string quando necessário.\"\n",
        "        return f'({self.x}, {self.y})'\n",
        "\n",
        "    def __add__(self, v):\n",
        "        \"Calcula self + v.\"\n",
        "        if isnum(v):\n",
        "            x = self.x + v    # v é escalar\n",
        "            y = self.y + v\n",
        "        else:\n",
        "            x = self.x + v.x  # v é vetor\n",
        "            y = self.y + v.y\n",
        "        return Vetor(x, y)\n",
        "\n",
        "    def __radd__(self, v):\n",
        "        \"Calcula v + self.\"\n",
        "        return self + v     # Equivale a: return self.__add__(v)\n",
        "\n",
        "    def __sub__(self, v):\n",
        "        \"Calcula self - v.\"\n",
        "        if isnum(v):\n",
        "            x = self.x - v    # v é escalar\n",
        "            y = self.y - v\n",
        "        else:\n",
        "            x = self.x - v.x  # v é vetor\n",
        "            y = self.y - v.y\n",
        "        return Vetor(x, y)\n",
        "\n",
        "    def __rsub__(self, v):\n",
        "        \"Calcula v - self.\"\n",
        "        if isnum(v):\n",
        "            x = v - self.x    # v é escalar\n",
        "            y = v - self.y\n",
        "        else:\n",
        "            x = v.x - self.x  # v é vetor\n",
        "            y = v.y - self.y\n",
        "        return Vetor(x, y)\n",
        "\n",
        "# CASOS DE TESTE\n",
        "u = Vetor(5, 3)\n",
        "v = Vetor(3, 5)\n",
        "print(u - v)     # Deve imprimir: (2, -2)\n",
        "print(v - u)     # Deve imprimir: (-2, 2)\n",
        "print(5 - u)     # Deve imprimir: (0, 2)\n",
        "print(u - 5)     # Deve imprimir: (0, -2)\n"
      ],
      "metadata": {
        "id": "2AEO2-52T7id",
        "colab": {
          "base_uri": "https://localhost:8080/"
        },
        "outputId": "335c5976-ba29-426b-987e-0ee4900f8499"
      },
      "execution_count": 40,
      "outputs": [
        {
          "output_type": "stream",
          "name": "stdout",
          "text": [
            "(2, -2)\n",
            "(-2, 2)\n",
            "(0, 2)\n",
            "(0, -2)\n"
          ]
        }
      ]
    },
    {
      "cell_type": "markdown",
      "source": [
        "# Avalie"
      ],
      "metadata": {
        "id": "nVJGyWm5o-zj"
      }
    },
    {
      "cell_type": "markdown",
      "source": [
        "O que você achou deste notebook? Dê uma nota de 1 a 5:"
      ],
      "metadata": {
        "id": "O1-3NQqPpCO6"
      }
    },
    {
      "cell_type": "code",
      "source": [
        "nota = 5\n",
        "if 1 <= nota <= 5:\n",
        "  print(\"O que achei do notebook: \" + \"😨😞😐🙂🥰\"[nota-1])\n",
        "else:\n",
        "  print(\"Sem nota\")"
      ],
      "metadata": {
        "id": "gGf_i3Bjozko",
        "colab": {
          "base_uri": "https://localhost:8080/"
        },
        "outputId": "759ea7c0-197a-4deb-d1e8-e0766f665e42"
      },
      "execution_count": 39,
      "outputs": [
        {
          "output_type": "stream",
          "name": "stdout",
          "text": [
            "O que achei do notebook: 🥰\n"
          ]
        }
      ]
    },
    {
      "cell_type": "markdown",
      "source": [
        "Como melhorar este notebook? Você tem alguma sugestão? Dê dois cliques e responda aqui."
      ],
      "metadata": {
        "id": "6yjLHoEdpEhZ"
      }
    }
  ]
}